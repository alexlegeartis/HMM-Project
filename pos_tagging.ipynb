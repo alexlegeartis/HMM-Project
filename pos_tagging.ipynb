{
 "cells": [
  {
   "cell_type": "code",
   "execution_count": 12,
   "metadata": {},
   "outputs": [
    {
     "name": "stderr",
     "output_type": "stream",
     "text": [
      "[nltk_data] Downloading package brown to\n",
      "[nltk_data]     C:\\Users\\Alex\\AppData\\Roaming\\nltk_data...\n",
      "[nltk_data]   Package brown is already up-to-date!\n",
      "[nltk_data] Downloading package universal_tagset to\n",
      "[nltk_data]     C:\\Users\\Alex\\AppData\\Roaming\\nltk_data...\n",
      "[nltk_data]   Package universal_tagset is already up-to-date!\n",
      "C:\\TMP\\ipykernel_11296\\1968036464.py:21: DeprecationWarning: \n",
      "  Function evaluate() has been deprecated.  Use accuracy(gold)\n",
      "  instead.\n",
      "  print(\"Accuracy:\", hmm_tagger.evaluate(test_sents))\n",
      "c:\\Users\\Alex\\AppData\\Local\\Programs\\Python\\Python39\\lib\\site-packages\\nltk\\tag\\hmm.py:335: RuntimeWarning: overflow encountered in cast\n",
      "  O[i, k] = self._output_logprob(si, self._symbols[k])\n",
      "c:\\Users\\Alex\\AppData\\Local\\Programs\\Python\\Python39\\lib\\site-packages\\nltk\\tag\\hmm.py:333: RuntimeWarning: overflow encountered in cast\n",
      "  X[i, j] = self._transitions[si].logprob(self._states[j])\n",
      "c:\\Users\\Alex\\AppData\\Local\\Programs\\Python\\Python39\\lib\\site-packages\\nltk\\tag\\hmm.py:363: RuntimeWarning: overflow encountered in cast\n",
      "  O[i, k] = self._output_logprob(si, self._symbols[k])\n"
     ]
    },
    {
     "name": "stdout",
     "output_type": "stream",
     "text": [
      "Accuracy: 0.7348217327003755\n"
     ]
    }
   ],
   "source": [
    "import nltk\n",
    "from nltk.corpus import brown\n",
    "from nltk.tag import hmm\n",
    "from sklearn.model_selection import train_test_split\n",
    "\n",
    "# 1) Загрузим корпус и разобьём на train/test\n",
    "nltk.download('brown')\n",
    "nltk.download('universal_tagset')\n",
    "tagged = brown.tagged_sents(tagset='universal')\n",
    "train_sents, test_sents = train_test_split(tagged, test_size=0.2, random_state=42)\n",
    "\n",
    "# 2) Соберём список всех тегов и слов из train\n",
    "tags = list({t for sent in train_sents for (_, t) in sent})\n",
    "words = list({w.lower() for sent in train_sents for (w, _) in sent})\n",
    "\n",
    "# 3) Обучим HMM-теггер\n",
    "trainer = hmm.HiddenMarkovModelTrainer(tags, words)\n",
    "hmm_tagger = trainer.train_supervised(train_sents)\n",
    "\n",
    "# 4) Оценим качество\n",
    "print(\"Accuracy:\", hmm_tagger.evaluate(test_sents))"
   ]
  },
  {
   "cell_type": "code",
   "execution_count": null,
   "metadata": {},
   "outputs": [],
   "source": []
  }
 ],
 "metadata": {
  "kernelspec": {
   "display_name": "Python 3",
   "language": "python",
   "name": "python3"
  },
  "language_info": {
   "codemirror_mode": {
    "name": "ipython",
    "version": 3
   },
   "file_extension": ".py",
   "mimetype": "text/x-python",
   "name": "python",
   "nbconvert_exporter": "python",
   "pygments_lexer": "ipython3",
   "version": "3.9.13"
  }
 },
 "nbformat": 4,
 "nbformat_minor": 2
}
