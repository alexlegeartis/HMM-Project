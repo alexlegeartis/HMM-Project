{
 "cells": [
  {
   "cell_type": "markdown",
   "metadata": {},
   "source": [
    "# NLTK (Natural Language Toolkit)"
   ]
  },
  {
   "cell_type": "markdown",
   "metadata": {},
   "source": [
    "## Supervised"
   ]
  },
  {
   "cell_type": "code",
   "execution_count": 1,
   "metadata": {},
   "outputs": [
    {
     "data": {
      "text/plain": [
       "['adventure',\n",
       " 'belles_lettres',\n",
       " 'editorial',\n",
       " 'fiction',\n",
       " 'government',\n",
       " 'hobbies',\n",
       " 'humor',\n",
       " 'learned',\n",
       " 'lore',\n",
       " 'mystery',\n",
       " 'news',\n",
       " 'religion',\n",
       " 'reviews',\n",
       " 'romance',\n",
       " 'science_fiction']"
      ]
     },
     "execution_count": 1,
     "metadata": {},
     "output_type": "execute_result"
    }
   ],
   "source": [
    "from nltk.corpus import brown\n",
    "brown.categories()"
   ]
  },
  {
   "cell_type": "markdown",
   "metadata": {},
   "source": [
    "1.1 million words:"
   ]
  },
  {
   "cell_type": "code",
   "execution_count": 2,
   "metadata": {},
   "outputs": [
    {
     "data": {
      "text/plain": [
       "1161192"
      ]
     },
     "execution_count": 2,
     "metadata": {},
     "output_type": "execute_result"
    }
   ],
   "source": [
    "len(brown.words())"
   ]
  },
  {
   "cell_type": "code",
   "execution_count": 19,
   "metadata": {},
   "outputs": [
    {
     "data": {
      "text/plain": [
       "[('The', 'DET'), ('Fulton', 'NOUN'), ...]"
      ]
     },
     "execution_count": 19,
     "metadata": {},
     "output_type": "execute_result"
    }
   ],
   "source": [
    "brown.tagged_words(categories='news', tagset='universal')"
   ]
  },
  {
   "cell_type": "code",
   "execution_count": 15,
   "metadata": {},
   "outputs": [
    {
     "data": {
      "text/plain": [
       "[['The', 'Fulton', 'County', 'Grand', 'Jury', 'said', 'Friday', 'an', 'investigation', 'of', \"Atlanta's\", 'recent', 'primary', 'election', 'produced', '``', 'no', 'evidence', \"''\", 'that', 'any', 'irregularities', 'took', 'place', '.'], ['The', 'jury', 'further', 'said', 'in', 'term-end', 'presentments', 'that', 'the', 'City', 'Executive', 'Committee', ',', 'which', 'had', 'over-all', 'charge', 'of', 'the', 'election', ',', '``', 'deserves', 'the', 'praise', 'and', 'thanks', 'of', 'the', 'City', 'of', 'Atlanta', \"''\", 'for', 'the', 'manner', 'in', 'which', 'the', 'election', 'was', 'conducted', '.'], ...]"
      ]
     },
     "execution_count": 15,
     "metadata": {},
     "output_type": "execute_result"
    }
   ],
   "source": [
    "brown.sents()"
   ]
  },
  {
   "cell_type": "code",
   "execution_count": 2,
   "metadata": {},
   "outputs": [
    {
     "name": "stderr",
     "output_type": "stream",
     "text": [
      "[nltk_data] Downloading package brown to\n",
      "[nltk_data]     C:\\Users\\Alex\\AppData\\Roaming\\nltk_data...\n",
      "[nltk_data]   Package brown is already up-to-date!\n",
      "[nltk_data] Downloading package universal_tagset to\n",
      "[nltk_data]     C:\\Users\\Alex\\AppData\\Roaming\\nltk_data...\n",
      "[nltk_data]   Package universal_tagset is already up-to-date!\n"
     ]
    }
   ],
   "source": [
    "import nltk\n",
    "from nltk.corpus import brown\n",
    "from nltk.tag import hmm\n",
    "from nltk.metrics.scores import accuracy as nltk_accuracy # Import the accuracy function\n",
    "from sklearn.model_selection import train_test_split\n",
    "\n",
    "# 1) Загрузим корпус и разобьём на train/test\n",
    "nltk.download('brown')\n",
    "nltk.download('universal_tagset')\n",
    "tagged = brown.tagged_sents(tagset='universal')"
   ]
  },
  {
   "cell_type": "code",
   "execution_count": 3,
   "metadata": {},
   "outputs": [],
   "source": [
    "train_sents, test_sents = train_test_split(tagged, test_size=0.2, random_state=42)"
   ]
  },
  {
   "cell_type": "code",
   "execution_count": 12,
   "metadata": {},
   "outputs": [],
   "source": [
    "# 2) Соберём список всех тегов и слов из train\n",
    "tags = list({t for sent in train_sents for (_, t) in sent})\n",
    "words = list({w for sent in train_sents for (w, _) in sent})"
   ]
  },
  {
   "cell_type": "code",
   "execution_count": 13,
   "metadata": {},
   "outputs": [],
   "source": [
    "# 3) Обучим HMM-теггер\n",
    "trainer = hmm.HiddenMarkovModelTrainer(tags, words)\n",
    "hmm_tagger = trainer.train_supervised(train_sents)\n"
   ]
  },
  {
   "cell_type": "markdown",
   "metadata": {},
   "source": [
    "Viterbi to predict sents:"
   ]
  },
  {
   "cell_type": "code",
   "execution_count": 14,
   "metadata": {},
   "outputs": [
    {
     "name": "stderr",
     "output_type": "stream",
     "text": [
      "c:\\Users\\Alex\\AppData\\Local\\Programs\\Python\\Python39\\lib\\site-packages\\nltk\\tag\\hmm.py:335: RuntimeWarning: overflow encountered in cast\n",
      "  O[i, k] = self._output_logprob(si, self._symbols[k])\n",
      "c:\\Users\\Alex\\AppData\\Local\\Programs\\Python\\Python39\\lib\\site-packages\\nltk\\tag\\hmm.py:333: RuntimeWarning: overflow encountered in cast\n",
      "  X[i, j] = self._transitions[si].logprob(self._states[j])\n",
      "c:\\Users\\Alex\\AppData\\Local\\Programs\\Python\\Python39\\lib\\site-packages\\nltk\\tag\\hmm.py:363: RuntimeWarning: overflow encountered in cast\n",
      "  O[i, k] = self._output_logprob(si, self._symbols[k])\n"
     ]
    },
    {
     "name": "stdout",
     "output_type": "stream",
     "text": [
      "Accuracy: 0.7316612554812506\n"
     ]
    }
   ],
   "source": [
    "# 1. Build the raw word-lists from your gold-standard sentences\n",
    "word_lists = [[w for (w, t) in sent] for sent in test_sents]\n",
    "\n",
    "# 2. Tag them\n",
    "predicted_sents = hmm_tagger.tag_sents(word_lists)\n",
    "\n",
    "# 3. Flatten both the gold and the predicted into one big list of (word, tag)\n",
    "gold_flat = [pair for sent in test_sents         for pair in sent]\n",
    "pred_flat = [pair for sent in predicted_sents    for pair in sent]\n",
    "\n",
    "# 4. Compute accuracy\n",
    "print(\"Accuracy:\", nltk_accuracy(gold_flat, pred_flat))"
   ]
  },
  {
   "cell_type": "markdown",
   "metadata": {},
   "source": [
    "### Smaller dataset"
   ]
  },
  {
   "cell_type": "code",
   "execution_count": 76,
   "metadata": {},
   "outputs": [
    {
     "data": {
      "text/plain": [
       "57340"
      ]
     },
     "execution_count": 76,
     "metadata": {},
     "output_type": "execute_result"
    }
   ],
   "source": [
    "len(brown.tagged_sents(tagset='universal'))"
   ]
  },
  {
   "cell_type": "code",
   "execution_count": 83,
   "metadata": {},
   "outputs": [],
   "source": [
    "import random\n",
    "\n",
    "#indices = random.sample(range(len(train_sents)), 1000)\n",
    "train_sents_short = random.sample(train_sents, 30000) #[ train_sents[i] for i in indices ]\n",
    "tags_short = list({t for sent in train_sents_short for (_, t) in sent})\n",
    "words_short = list({w for sent in train_sents_short for (w, _) in sent})"
   ]
  },
  {
   "cell_type": "code",
   "execution_count": 84,
   "metadata": {},
   "outputs": [],
   "source": [
    "trainer = hmm.HiddenMarkovModelTrainer(tags_short, words_short)\n",
    "\n",
    "\n",
    "hmm_tagger = trainer.train_supervised(\n",
    "    train_sents_short,\n",
    ")"
   ]
  },
  {
   "cell_type": "code",
   "execution_count": 85,
   "metadata": {},
   "outputs": [
    {
     "name": "stdout",
     "output_type": "stream",
     "text": [
      "Accuracy: 0.6769543865095483\n"
     ]
    }
   ],
   "source": [
    "# 1. Build the raw word-lists from your gold-standard sentences\n",
    "word_lists = [[w for (w, t) in sent] for sent in test_sents]\n",
    "\n",
    "# 2. Tag them\n",
    "predicted_sents = hmm_tagger.tag_sents(word_lists)\n",
    "\n",
    "# 3. Flatten both the gold and the predicted into one big list of (word, tag)\n",
    "gold_flat = [pair for sent in test_sents         for pair in sent]\n",
    "pred_flat = [pair for sent in predicted_sents    for pair in sent]\n",
    "\n",
    "# 4. Compute accuracy\n",
    "print(\"Accuracy:\", nltk_accuracy(gold_flat, pred_flat))"
   ]
  },
  {
   "cell_type": "markdown",
   "metadata": {},
   "source": [
    "## Baum-Welch algorithm"
   ]
  },
  {
   "cell_type": "code",
   "execution_count": 10,
   "metadata": {},
   "outputs": [
    {
     "name": "stdout",
     "output_type": "stream",
     "text": [
      "iteration 0 logprob -1.7625099999996204e+305\n",
      "iteration 1 logprob -1.0079714373778483e+291\n",
      "iteration 2 logprob -10459570.625052601\n",
      "iteration 3 logprob -9303013.47956818\n",
      "iteration 4 logprob -9183131.69229908\n",
      "iteration 5 logprob -9102243.048878297\n",
      "iteration 6 logprob -9056322.578358807\n",
      "iteration 7 logprob -9029640.782758556\n",
      "iteration 8 logprob -9012946.461595282\n",
      "iteration 9 logprob -9001744.229187535\n"
     ]
    }
   ],
   "source": [
    "# Get supervised initialization\n",
    "labeled_sents = train_sents[:1000]\n",
    "trainer = hmm.HiddenMarkovModelTrainer(tags, words)\n",
    "supervised_tagger = trainer.train_supervised(labeled_sents)\n",
    "\n",
    "# Run Baum-Welch with supervised initialization\n",
    "hmm_tagger = trainer.train_unsupervised(\n",
    "    train_sents,\n",
    "    # random.sample(train_sents[10000:], 10000),\n",
    "    model=supervised_tagger,\n",
    "    threshold=0.1,\n",
    "    max_iterations=10\n",
    ")\n",
    "\n",
    "\n"
   ]
  },
  {
   "cell_type": "code",
   "execution_count": 11,
   "metadata": {},
   "outputs": [
    {
     "name": "stdout",
     "output_type": "stream",
     "text": [
      "Accuracy: 0.6714224734506978\n"
     ]
    }
   ],
   "source": [
    "# 1. Build the raw word-lists from your gold-standard sentences\n",
    "word_lists = [[w for (w, t) in sent] for sent in test_sents]\n",
    "\n",
    "# 2. Tag them\n",
    "predicted_sents = hmm_tagger.tag_sents(word_lists)\n",
    "\n",
    "# 3. Flatten both the gold and the predicted into one big list of (word, tag)\n",
    "gold_flat = [pair for sent in test_sents         for pair in sent]\n",
    "pred_flat = [pair for sent in predicted_sents    for pair in sent]\n",
    "\n",
    "# 4. Compute accuracy\n",
    "print(\"Accuracy:\", nltk_accuracy(gold_flat, pred_flat))"
   ]
  },
  {
   "cell_type": "markdown",
   "metadata": {},
   "source": [
    "# "
   ]
  },
  {
   "cell_type": "markdown",
   "metadata": {},
   "source": [
    "## Advanced techniques"
   ]
  },
  {
   "cell_type": "markdown",
   "metadata": {},
   "source": [
    "### Supervised"
   ]
  },
  {
   "cell_type": "code",
   "execution_count": 5,
   "metadata": {},
   "outputs": [],
   "source": [
    "tags = list({t for sent in train_sents for (_, t) in sent})\n",
    "words = list({w for sent in train_sents for (w, _) in sent})"
   ]
  },
  {
   "cell_type": "code",
   "execution_count": 15,
   "metadata": {},
   "outputs": [],
   "source": [
    "from nltk.tag import RegexpTagger, HiddenMarkovModelTagger\n",
    "from nltk.tag.hmm import HiddenMarkovModelTrainer\n",
    "from nltk.probability import LidstoneProbDist\n",
    "\n",
    "# 1) Prepare your data (no lowercasing!)\n",
    "# train_sents, test_sents = train_test_split(tagged, test_size=0.2, random_state=42)\n",
    "\n",
    "# 2) Collect tagset and vocabulary (with original casing)\n",
    "tags = list({t for sent in train_sents for (_, t) in sent})\n",
    "words = list({w for sent in train_sents for (w, _) in sent})\n",
    "\n",
    "# 3) Train your HMM with additive (Lidstone) smoothing\n",
    "trainer = HiddenMarkovModelTrainer(tags, words)\n",
    "estimator = lambda freqdist, bins: LidstoneProbDist(freqdist, 0.1, bins)\n",
    "hmm_tagger: HiddenMarkovModelTagger = trainer.train_supervised(\n",
    "    train_sents,\n",
    "    estimator=estimator,\n",
    "    # you can also pass order=3 here for a trigram HMM\n",
    ")"
   ]
  },
  {
   "cell_type": "code",
   "execution_count": 16,
   "metadata": {},
   "outputs": [
    {
     "name": "stdout",
     "output_type": "stream",
     "text": [
      "Accuracy: 0.9512519025382987\n"
     ]
    }
   ],
   "source": [
    "# 1. Build the raw word-lists from your gold-standard sentences\n",
    "word_lists = [[w for (w, t) in sent] for sent in test_sents]\n",
    "\n",
    "# 2. Tag them\n",
    "predicted_sents = hmm_tagger.tag_sents(word_lists)\n",
    "\n",
    "# 3. Flatten both the gold and the predicted into one big list of (word, tag)\n",
    "gold_flat = [pair for sent in test_sents         for pair in sent]\n",
    "pred_flat = [pair for sent in predicted_sents    for pair in sent]\n",
    "\n",
    "# 4. Compute accuracy\n",
    "print(\"Accuracy:\", nltk_accuracy(gold_flat, pred_flat))"
   ]
  },
  {
   "cell_type": "markdown",
   "metadata": {},
   "source": [
    "### Unsupervised"
   ]
  },
  {
   "cell_type": "code",
   "execution_count": 20,
   "metadata": {},
   "outputs": [
    {
     "name": "stdout",
     "output_type": "stream",
     "text": [
      "iteration 0 logprob -10323439.847916776\n",
      "iteration 1 logprob -9096593.341661517\n",
      "iteration 2 logprob -8988874.992472248\n",
      "iteration 3 logprob -8910284.645916255\n",
      "iteration 4 logprob -8854316.305425018\n",
      "iteration 5 logprob -8813000.566213284\n",
      "iteration 6 logprob -8782337.353903037\n",
      "iteration 7 logprob -8759631.020962598\n",
      "iteration 8 logprob -8742290.362671502\n",
      "iteration 9 logprob -8728995.441892426\n"
     ]
    }
   ],
   "source": [
    "# Get supervised initialization\n",
    "labeled_sents = train_sents[:1000]\n",
    "trainer = hmm.HiddenMarkovModelTrainer(tags, words)\n",
    "supervised_tagger = trainer.train_supervised(labeled_sents, estimator=estimator)\n",
    "\n",
    "# Run Baum-Welch with supervised initialization\n",
    "hmm_tagger = trainer.train_unsupervised(\n",
    "    train_sents,\n",
    "    # random.sample(train_sents[10000:], 10000),\n",
    "    model=supervised_tagger,\n",
    "    threshold=0.1,\n",
    "    max_iterations=10,\n",
    "    estimator=estimator,\n",
    ")\n",
    "\n",
    "\n"
   ]
  },
  {
   "cell_type": "code",
   "execution_count": 21,
   "metadata": {},
   "outputs": [
    {
     "name": "stdout",
     "output_type": "stream",
     "text": [
      "Accuracy: 0.5697094344341107\n"
     ]
    }
   ],
   "source": [
    "predicted_sents = hmm_tagger.tag_sents(word_lists)\n",
    "\n",
    "# 3. Flatten both the gold and the predicted into one big list of (word, tag)\n",
    "gold_flat = [pair for sent in test_sents         for pair in sent]\n",
    "pred_flat = [pair for sent in predicted_sents    for pair in sent]\n",
    "\n",
    "# 4. Compute accuracy\n",
    "print(\"Accuracy:\", nltk_accuracy(gold_flat, pred_flat))"
   ]
  },
  {
   "cell_type": "code",
   "execution_count": null,
   "metadata": {},
   "outputs": [],
   "source": []
  }
 ],
 "metadata": {
  "kernelspec": {
   "display_name": "Python 3",
   "language": "python",
   "name": "python3"
  },
  "language_info": {
   "codemirror_mode": {
    "name": "ipython",
    "version": 3
   },
   "file_extension": ".py",
   "mimetype": "text/x-python",
   "name": "python",
   "nbconvert_exporter": "python",
   "pygments_lexer": "ipython3",
   "version": "3.9.13"
  }
 },
 "nbformat": 4,
 "nbformat_minor": 2
}
