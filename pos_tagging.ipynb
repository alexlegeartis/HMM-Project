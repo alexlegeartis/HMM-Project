{
 "cells": [
  {
   "cell_type": "markdown",
   "metadata": {},
   "source": [
    "# NLTK (Natural Language Toolkit)"
   ]
  },
  {
   "cell_type": "markdown",
   "metadata": {},
   "source": [
    "## Introduction"
   ]
  },
  {
   "cell_type": "code",
   "execution_count": 13,
   "metadata": {},
   "outputs": [
    {
     "data": {
      "text/plain": [
       "['adventure',\n",
       " 'belles_lettres',\n",
       " 'editorial',\n",
       " 'fiction',\n",
       " 'government',\n",
       " 'hobbies',\n",
       " 'humor',\n",
       " 'learned',\n",
       " 'lore',\n",
       " 'mystery',\n",
       " 'news',\n",
       " 'religion',\n",
       " 'reviews',\n",
       " 'romance',\n",
       " 'science_fiction']"
      ]
     },
     "execution_count": 13,
     "metadata": {},
     "output_type": "execute_result"
    }
   ],
   "source": [
    "from nltk.corpus import brown\n",
    "brown.categories()"
   ]
  },
  {
   "cell_type": "markdown",
   "metadata": {},
   "source": [
    "1.1 million words:"
   ]
  },
  {
   "cell_type": "code",
   "execution_count": 18,
   "metadata": {},
   "outputs": [
    {
     "data": {
      "text/plain": [
       "1161192"
      ]
     },
     "execution_count": 18,
     "metadata": {},
     "output_type": "execute_result"
    }
   ],
   "source": [
    "len(brown.words())"
   ]
  },
  {
   "cell_type": "code",
   "execution_count": 19,
   "metadata": {},
   "outputs": [
    {
     "data": {
      "text/plain": [
       "[('The', 'DET'), ('Fulton', 'NOUN'), ...]"
      ]
     },
     "execution_count": 19,
     "metadata": {},
     "output_type": "execute_result"
    }
   ],
   "source": [
    "brown.tagged_words(categories='news', tagset='universal')"
   ]
  },
  {
   "cell_type": "code",
   "execution_count": 15,
   "metadata": {},
   "outputs": [
    {
     "data": {
      "text/plain": [
       "[['The', 'Fulton', 'County', 'Grand', 'Jury', 'said', 'Friday', 'an', 'investigation', 'of', \"Atlanta's\", 'recent', 'primary', 'election', 'produced', '``', 'no', 'evidence', \"''\", 'that', 'any', 'irregularities', 'took', 'place', '.'], ['The', 'jury', 'further', 'said', 'in', 'term-end', 'presentments', 'that', 'the', 'City', 'Executive', 'Committee', ',', 'which', 'had', 'over-all', 'charge', 'of', 'the', 'election', ',', '``', 'deserves', 'the', 'praise', 'and', 'thanks', 'of', 'the', 'City', 'of', 'Atlanta', \"''\", 'for', 'the', 'manner', 'in', 'which', 'the', 'election', 'was', 'conducted', '.'], ...]"
      ]
     },
     "execution_count": 15,
     "metadata": {},
     "output_type": "execute_result"
    }
   ],
   "source": [
    "brown.sents()"
   ]
  },
  {
   "cell_type": "code",
   "execution_count": 47,
   "metadata": {},
   "outputs": [
    {
     "name": "stderr",
     "output_type": "stream",
     "text": [
      "[nltk_data] Downloading package brown to\n",
      "[nltk_data]     C:\\Users\\Alex\\AppData\\Roaming\\nltk_data...\n",
      "[nltk_data]   Package brown is already up-to-date!\n",
      "[nltk_data] Downloading package universal_tagset to\n",
      "[nltk_data]     C:\\Users\\Alex\\AppData\\Roaming\\nltk_data...\n",
      "[nltk_data]   Package universal_tagset is already up-to-date!\n"
     ]
    }
   ],
   "source": [
    "import nltk\n",
    "from nltk.corpus import brown\n",
    "from nltk.tag import hmm\n",
    "from nltk.metrics.scores import accuracy as nltk_accuracy # Import the accuracy function\n",
    "from sklearn.model_selection import train_test_split\n",
    "\n",
    "# 1) Загрузим корпус и разобьём на train/test\n",
    "nltk.download('brown')\n",
    "nltk.download('universal_tagset')\n",
    "tagged = brown.tagged_sents(tagset='universal')"
   ]
  },
  {
   "cell_type": "code",
   "execution_count": 48,
   "metadata": {},
   "outputs": [],
   "source": [
    "train_sents, test_sents = train_test_split(tagged, test_size=0.2, random_state=42)"
   ]
  },
  {
   "cell_type": "code",
   "execution_count": 49,
   "metadata": {},
   "outputs": [],
   "source": [
    "# 2) Соберём список всех тегов и слов из train\n",
    "tags = list({t for sent in train_sents for (_, t) in sent})\n",
    "words = list({w.lower() for sent in train_sents for (w, _) in sent})\n",
    "\n",
    "# 3) Обучим HMM-теггер\n",
    "trainer = hmm.HiddenMarkovModelTrainer(tags, words)\n",
    "hmm_tagger = trainer.train_supervised(train_sents)\n"
   ]
  },
  {
   "cell_type": "markdown",
   "metadata": {},
   "source": [
    "Viterbi to predict sents:"
   ]
  },
  {
   "cell_type": "code",
   "execution_count": 27,
   "metadata": {},
   "outputs": [
    {
     "name": "stderr",
     "output_type": "stream",
     "text": [
      "c:\\Users\\Alex\\AppData\\Local\\Programs\\Python\\Python39\\lib\\site-packages\\nltk\\tag\\hmm.py:335: RuntimeWarning: overflow encountered in cast\n",
      "  O[i, k] = self._output_logprob(si, self._symbols[k])\n",
      "c:\\Users\\Alex\\AppData\\Local\\Programs\\Python\\Python39\\lib\\site-packages\\nltk\\tag\\hmm.py:333: RuntimeWarning: overflow encountered in cast\n",
      "  X[i, j] = self._transitions[si].logprob(self._states[j])\n",
      "c:\\Users\\Alex\\AppData\\Local\\Programs\\Python\\Python39\\lib\\site-packages\\nltk\\tag\\hmm.py:363: RuntimeWarning: overflow encountered in cast\n",
      "  O[i, k] = self._output_logprob(si, self._symbols[k])\n"
     ]
    },
    {
     "name": "stdout",
     "output_type": "stream",
     "text": [
      "Accuracy: 0.7348217327003755\n"
     ]
    }
   ],
   "source": [
    "# 1. Build the raw word-lists from your gold-standard sentences\n",
    "word_lists = [[w for (w, t) in sent] for sent in test_sents]\n",
    "\n",
    "# 2. Tag them\n",
    "predicted_sents = hmm_tagger.tag_sents(word_lists)\n",
    "\n",
    "# 3. Flatten both the gold and the predicted into one big list of (word, tag)\n",
    "gold_flat = [pair for sent in test_sents         for pair in sent]\n",
    "pred_flat = [pair for sent in predicted_sents    for pair in sent]\n",
    "\n",
    "# 4. Compute accuracy\n",
    "print(\"Accuracy:\", nltk_accuracy(gold_flat, pred_flat))"
   ]
  },
  {
   "cell_type": "markdown",
   "metadata": {},
   "source": [
    "## Baum-Welch algorithm"
   ]
  },
  {
   "cell_type": "code",
   "execution_count": 52,
   "metadata": {},
   "outputs": [
    {
     "data": {
      "text/plain": [
       "57340"
      ]
     },
     "execution_count": 52,
     "metadata": {},
     "output_type": "execute_result"
    }
   ],
   "source": [
    "len(brown.tagged_sents(tagset='universal'))"
   ]
  },
  {
   "cell_type": "code",
   "execution_count": 54,
   "metadata": {},
   "outputs": [],
   "source": [
    "import random\n",
    "\n",
    "indices = random.sample(range(len(tagged)), 1000)\n",
    "tagged_short = [ tagged[i] for i in indices ]"
   ]
  },
  {
   "cell_type": "code",
   "execution_count": 20,
   "metadata": {},
   "outputs": [
    {
     "name": "stdout",
     "output_type": "stream",
     "text": [
      "iteration 0 logprob -14814579.960571732\n",
      "iteration 1 logprob -9571880.273423187\n"
     ]
    },
    {
     "ename": "KeyboardInterrupt",
     "evalue": "",
     "output_type": "error",
     "traceback": [
      "\u001b[1;31m---------------------------------------------------------------------------\u001b[0m",
      "\u001b[1;31mKeyboardInterrupt\u001b[0m                         Traceback (most recent call last)",
      "Cell \u001b[1;32mIn[20], line 1\u001b[0m\n\u001b[1;32m----> 1\u001b[0m hmm_tagger_unsupervised \u001b[38;5;241m=\u001b[39m \u001b[43mtrainer\u001b[49m\u001b[38;5;241;43m.\u001b[39;49m\u001b[43mtrain_unsupervised\u001b[49m\u001b[43m(\u001b[49m\u001b[43mtrain_sents\u001b[49m\u001b[43m)\u001b[49m\n\u001b[0;32m      2\u001b[0m \u001b[38;5;28mprint\u001b[39m(\u001b[38;5;124m\"\u001b[39m\u001b[38;5;124mAccuracy:\u001b[39m\u001b[38;5;124m\"\u001b[39m, hmm_tagger_unsupervised\u001b[38;5;241m.\u001b[39mevaluate(test_sents))\n",
      "File \u001b[1;32mc:\\Users\\Alex\\AppData\\Local\\Programs\\Python\\Python39\\lib\\site-packages\\nltk\\tag\\hmm.py:1024\u001b[0m, in \u001b[0;36mHiddenMarkovModelTrainer.train_unsupervised\u001b[1;34m(self, unlabeled_sequences, update_outputs, **kwargs)\u001b[0m\n\u001b[0;32m   1022\u001b[0m \u001b[38;5;28;01mfor\u001b[39;00m i \u001b[38;5;129;01min\u001b[39;00m \u001b[38;5;28mrange\u001b[39m(N):\n\u001b[0;32m   1023\u001b[0m     A_numer[i] \u001b[38;5;241m=\u001b[39m np\u001b[38;5;241m.\u001b[39mlogaddexp2(A_numer[i], seq_A_numer[i] \u001b[38;5;241m-\u001b[39m lpk)\n\u001b[1;32m-> 1024\u001b[0m     B_numer[i] \u001b[38;5;241m=\u001b[39m \u001b[43mnp\u001b[49m\u001b[38;5;241;43m.\u001b[39;49m\u001b[43mlogaddexp2\u001b[49m\u001b[43m(\u001b[49m\u001b[43mB_numer\u001b[49m\u001b[43m[\u001b[49m\u001b[43mi\u001b[49m\u001b[43m]\u001b[49m\u001b[43m,\u001b[49m\u001b[43m \u001b[49m\u001b[43mseq_B_numer\u001b[49m\u001b[43m[\u001b[49m\u001b[43mi\u001b[49m\u001b[43m]\u001b[49m\u001b[43m \u001b[49m\u001b[38;5;241;43m-\u001b[39;49m\u001b[43m \u001b[49m\u001b[43mlpk\u001b[49m\u001b[43m)\u001b[49m\n\u001b[0;32m   1026\u001b[0m A_denom \u001b[38;5;241m=\u001b[39m np\u001b[38;5;241m.\u001b[39mlogaddexp2(A_denom, seq_A_denom \u001b[38;5;241m-\u001b[39m lpk)\n\u001b[0;32m   1027\u001b[0m B_denom \u001b[38;5;241m=\u001b[39m np\u001b[38;5;241m.\u001b[39mlogaddexp2(B_denom, seq_B_denom \u001b[38;5;241m-\u001b[39m lpk)\n",
      "\u001b[1;31mKeyboardInterrupt\u001b[0m: "
     ]
    }
   ],
   "source": [
    "hmm_tagger_unsupervised = trainer.train_unsupervised(train_sents)\n",
    "print(\"Accuracy:\", hmm_tagger_unsupervised.evaluate(test_sents))"
   ]
  },
  {
   "cell_type": "code",
   "execution_count": 45,
   "metadata": {},
   "outputs": [
    {
     "name": "stdout",
     "output_type": "stream",
     "text": [
      "iteration 0 logprob -245447.04101194412\n",
      "iteration 1 logprob -188015.57286495733\n",
      "iteration 2 logprob -187670.30757980066\n",
      "iteration 3 logprob -187251.14900020816\n",
      "iteration 4 logprob -186649.38035198193\n",
      "iteration 5 logprob -185743.10368546678\n",
      "iteration 6 logprob -184419.30920252914\n",
      "iteration 7 logprob -182656.8376481745\n",
      "iteration 8 logprob -180611.9704021879\n",
      "iteration 9 logprob -178539.30891697144\n"
     ]
    }
   ],
   "source": [
    "# 1. Split off 50 tagged sentences and 950 raw sentences\n",
    "labeled_sents = train_sents[:100]\n",
    "# raw_sents     = train_sents[50:1000]\n",
    "\n",
    "raw_sents = random.sample(train_sents[100:], 950)\n",
    "\n",
    "# 2. Build the full tag set (states) and symbol set (vocab)\n",
    "states  = list({ tag for sent in labeled_sents for (word, tag) in sent })\n",
    "symbols = list({ word \n",
    "                 for sent in raw_sents + labeled_sents   # include both labeled + unlabeled \n",
    "                 for (word, *_) in sent })         # unpack to ignore tags if present\n",
    "\n",
    "# 3. Convert the raw ones to the required “unlabeled” format\n",
    "unlabeled_sents = [\n",
    "    [ (word, None) for (word, *_) in sent ]\n",
    "    for sent in raw_sents\n",
    "]\n",
    "\n",
    "# 4. Instantiate the trainer with _both_ your states and symbols\n",
    "trainer = hmm.HiddenMarkovModelTrainer(states, symbols)\n",
    "\n",
    "# 5. Get a little supervised head‐start\n",
    "supervised_tagger = trainer.train_supervised(labeled_sents)\n",
    "\n",
    "# 6. Run Baum–Welch on the rest\n",
    "hmm_tagger = trainer.train_unsupervised(\n",
    "    unlabeled_sents,\n",
    "    estimator=supervised_tagger,\n",
    "    threshold=1.0,\n",
    "    max_iterations=10\n",
    ")"
   ]
  },
  {
   "cell_type": "code",
   "execution_count": 46,
   "metadata": {},
   "outputs": [
    {
     "name": "stdout",
     "output_type": "stream",
     "text": [
      "Accuracy: 0.04677764986396582\n"
     ]
    }
   ],
   "source": [
    "# 1. Build the raw word-lists from your gold-standard sentences\n",
    "word_lists = [[w for (w, t) in sent] for sent in test_sents]\n",
    "\n",
    "# 2. Tag them\n",
    "predicted_sents = hmm_tagger_unsupervised.tag_sents(word_lists)\n",
    "\n",
    "# 3. Flatten both the gold and the predicted into one big list of (word, tag)\n",
    "gold_flat = [pair for sent in test_sents         for pair in sent]\n",
    "pred_flat = [pair for sent in predicted_sents    for pair in sent]\n",
    "\n",
    "# 4. Compute accuracy\n",
    "print(\"Accuracy:\", nltk_accuracy(gold_flat, pred_flat))"
   ]
  },
  {
   "cell_type": "markdown",
   "metadata": {},
   "source": [
    "# "
   ]
  }
 ],
 "metadata": {
  "kernelspec": {
   "display_name": "Python 3",
   "language": "python",
   "name": "python3"
  },
  "language_info": {
   "codemirror_mode": {
    "name": "ipython",
    "version": 3
   },
   "file_extension": ".py",
   "mimetype": "text/x-python",
   "name": "python",
   "nbconvert_exporter": "python",
   "pygments_lexer": "ipython3",
   "version": "3.9.13"
  }
 },
 "nbformat": 4,
 "nbformat_minor": 2
}
